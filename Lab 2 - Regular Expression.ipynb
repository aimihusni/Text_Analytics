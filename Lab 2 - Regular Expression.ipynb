{
 "cells": [
  {
   "cell_type": "code",
   "execution_count": 44,
   "id": "9382f9a2-f263-49bc-8cf7-21a23ff11aa6",
   "metadata": {},
   "outputs": [],
   "source": [
    "#importing regular expression library \n",
    "import re"
   ]
  },
  {
   "cell_type": "code",
   "execution_count": 45,
   "id": "25f77293-d11e-4f0b-9cbd-7be49a7e84fa",
   "metadata": {},
   "outputs": [],
   "source": [
    "#a. re.match()"
   ]
  },
  {
   "cell_type": "code",
   "execution_count": 46,
   "id": "244dd432-3af3-4060-a7a9-06fc23e5f1ae",
   "metadata": {},
   "outputs": [
    {
     "name": "stdout",
     "output_type": "stream",
     "text": [
      "<re.Match object; span=(0, 1), match='I'>\n"
     ]
    }
   ],
   "source": [
    "sentence1 = re.match (r'I', 'I am learning text analytics') \n",
    "print (sentence1) \n",
    "#to find the first occurrence of the letter 'I' in the string "
   ]
  },
  {
   "cell_type": "code",
   "execution_count": 47,
   "id": "4511c6d3-b2ef-4028-99d8-0e15696b6218",
   "metadata": {},
   "outputs": [
    {
     "name": "stdout",
     "output_type": "stream",
     "text": [
      "None\n"
     ]
    }
   ],
   "source": [
    "sentence2 = re.match (r'v', 'I am learning text analytics') \n",
    "print (sentence2) \n",
    "#to find the first occurrence of the letter 'v' in the string "
   ]
  },
  {
   "cell_type": "code",
   "execution_count": 48,
   "id": "4fa5a0bc-5a0a-4c75-94eb-d1240796fc84",
   "metadata": {},
   "outputs": [
    {
     "name": "stdout",
     "output_type": "stream",
     "text": [
      "None\n"
     ]
    }
   ],
   "source": [
    "sentence3 = re.match (r'am', 'I am learning text analytics') \n",
    "print (sentence3) \n",
    "#to find the first occurrence of the letter 'am' in the string"
   ]
  },
  {
   "cell_type": "code",
   "execution_count": 49,
   "id": "b60703ab-ea64-4baa-9851-d899d50f5240",
   "metadata": {},
   "outputs": [],
   "source": [
    "#b. re.search()"
   ]
  },
  {
   "cell_type": "code",
   "execution_count": 50,
   "id": "8b4a10b2-7552-47d0-885b-b0a52d627113",
   "metadata": {},
   "outputs": [
    {
     "name": "stdout",
     "output_type": "stream",
     "text": [
      "<re.Match object; span=(2, 4), match='am'>\n"
     ]
    }
   ],
   "source": [
    "sentence4 = re.search(r'am', 'I am learning text analytics')  \n",
    "print (sentence4)  "
   ]
  },
  {
   "cell_type": "code",
   "execution_count": 51,
   "id": "e5c0087e-58fb-4417-916e-a0004063b2bf",
   "metadata": {},
   "outputs": [
    {
     "name": "stdout",
     "output_type": "stream",
     "text": [
      "<re.Match object; span=(2, 4), match='am'>\n"
     ]
    }
   ],
   "source": [
    "sentence5 = re.search(r'am', 'I am learning text analytics and am enjoying it')  \n",
    "print (sentence5)  "
   ]
  },
  {
   "cell_type": "code",
   "execution_count": 52,
   "id": "467d0ba6-099f-45c0-9c3d-ed2f749a3e4b",
   "metadata": {},
   "outputs": [],
   "source": [
    "#c. re.findall()"
   ]
  },
  {
   "cell_type": "code",
   "execution_count": 53,
   "id": "24dc44b2-4670-4665-b02b-fd0e9dbaf698",
   "metadata": {},
   "outputs": [
    {
     "name": "stdout",
     "output_type": "stream",
     "text": [
      "['am', 'am']\n"
     ]
    }
   ],
   "source": [
    "sentence6 = re.findall(r'am', 'I am learning text analytics and am enjoying it')  \n",
    "print (sentence6)  "
   ]
  },
  {
   "cell_type": "code",
   "execution_count": 54,
   "id": "e22f95d7-c650-42bb-8fe0-67187e20fcfa",
   "metadata": {},
   "outputs": [],
   "source": [
    "#d. re.split()"
   ]
  },
  {
   "cell_type": "code",
   "execution_count": 55,
   "id": "eb736f3b-a620-4afe-8b2a-b9e239d3ed8e",
   "metadata": {},
   "outputs": [
    {
     "name": "stdout",
     "output_type": "stream",
     "text": [
      "['I am learning text analytics ', ' am enjoying it']\n"
     ]
    }
   ],
   "source": [
    "sentence7 = re.split(r'and', 'I am learning text analytics and am enjoying it')  \n",
    "print (sentence7)  "
   ]
  },
  {
   "cell_type": "code",
   "execution_count": 56,
   "id": "e7f3ea9c-375b-461e-a793-c3d39c3665af",
   "metadata": {},
   "outputs": [
    {
     "name": "stdout",
     "output_type": "stream",
     "text": [
      "['I ', ' learning text analytics and ', ' enjoying it']\n"
     ]
    }
   ],
   "source": [
    "sentence8 = re.split(r'am', 'I am learning text analytics and am enjoying it')  \n",
    "print (sentence8)  "
   ]
  },
  {
   "cell_type": "code",
   "execution_count": 57,
   "id": "5556e6f0-5ac5-4156-984b-de7e74241c8d",
   "metadata": {},
   "outputs": [
    {
     "name": "stdout",
     "output_type": "stream",
     "text": [
      "['I ', ' learning text analytics and am enjoying it']\n"
     ]
    }
   ],
   "source": [
    "sentence9 = re.split(r'am', 'I am learning text analytics and am enjoying it', maxsplit=1) \n",
    "print (sentence9)  "
   ]
  },
  {
   "cell_type": "code",
   "execution_count": 58,
   "id": "885073a2-d9dd-427b-b7f8-70ee017add33",
   "metadata": {},
   "outputs": [
    {
     "name": "stdout",
     "output_type": "stream",
     "text": [
      "['I ', ' learning text analytics and ', ' enjoying it']\n"
     ]
    }
   ],
   "source": [
    "sentence9 = re.split(r'am', 'I am learning text analytics and am enjoying it', maxsplit=2) \n",
    "print (sentence9)  "
   ]
  },
  {
   "cell_type": "code",
   "execution_count": 59,
   "id": "461ea8b7-7ab3-41dc-9e6e-0027ed1d688e",
   "metadata": {},
   "outputs": [
    {
     "name": "stdout",
     "output_type": "stream",
     "text": [
      "['I ', ' learning text analytics, I ', ' enjoying it and I ', ' going to ace it']\n"
     ]
    }
   ],
   "source": [
    "sentence10 = re.split(r'am', 'I am learning text analytics, I am enjoying it and I am going to ace it', maxsplit=3) \n",
    "print (sentence10)  "
   ]
  },
  {
   "cell_type": "code",
   "execution_count": 60,
   "id": "a9295a39-cf2c-4b6a-9cc4-ef1706878f7f",
   "metadata": {},
   "outputs": [],
   "source": [
    "#e. re.sub()"
   ]
  },
  {
   "cell_type": "code",
   "execution_count": 61,
   "id": "0fd212ab-4188-4f3f-9b7d-3d5fe9f5b47c",
   "metadata": {},
   "outputs": [
    {
     "name": "stdout",
     "output_type": "stream",
     "text": [
      "we like text analytics and we enjoy learning it\n"
     ]
    }
   ],
   "source": [
    "sentence11 = re.sub(r'I', 'we', 'I like text analytics and I enjoy learning it') \n",
    "print (sentence11)  "
   ]
  },
  {
   "cell_type": "code",
   "execution_count": 62,
   "id": "4b84e74b-dabc-47aa-a22d-20442879ef21",
   "metadata": {},
   "outputs": [],
   "source": [
    "# Using metacharacters\n",
    "#a. Metacharacter . "
   ]
  },
  {
   "cell_type": "code",
   "execution_count": 63,
   "id": "087d6c03-6772-48ff-add9-9f8bc315b7b1",
   "metadata": {},
   "outputs": [
    {
     "name": "stdout",
     "output_type": "stream",
     "text": [
      "['I', ' ', 'a', 'm', ' ', 'l', 'e', 'a', 'r', 'n', 'i', 'n', 'g', ' ', 't', 'e', 'x', 't', ' ', 'a', 'n', 'a', 'l', 'y', 't', 'i', 'c', 's']\n"
     ]
    }
   ],
   "source": [
    "sentence1 = re.findall (r'.', 'I am learning text analytics') \n",
    "print (sentence1) \n",
    "# Each letter is selected including spaces "
   ]
  },
  {
   "cell_type": "code",
   "execution_count": 64,
   "id": "fea73450-7d44-46df-9ca2-b6d6350662d7",
   "metadata": {},
   "outputs": [],
   "source": [
    "#b. Metacharacter \\w"
   ]
  },
  {
   "cell_type": "code",
   "execution_count": 65,
   "id": "0f2d19ac-4901-4e58-802f-05922ffed6d3",
   "metadata": {},
   "outputs": [
    {
     "name": "stdout",
     "output_type": "stream",
     "text": [
      "['I', 'a', 'm', 'l', 'e', 'a', 'r', 'n', 'i', 'n', 'g', 't', 'e', 'x', 't', 'a', 'n', 'a', 'l', 'y', 't', 'i', 'c', 's']\n"
     ]
    }
   ],
   "source": [
    "sentence2 = re.findall (r'\\w', 'I am learning text analytics') \n",
    "print (sentence2)\n",
    "# Each letter is selected excluding spaces "
   ]
  },
  {
   "cell_type": "code",
   "execution_count": 66,
   "id": "a19db937-17d6-42f0-ad2b-6876e03441e8",
   "metadata": {},
   "outputs": [],
   "source": [
    "#c. Metacharacter \\w*"
   ]
  },
  {
   "cell_type": "code",
   "execution_count": 67,
   "id": "517b45ed-aa6c-49b7-b31e-17ce8361654a",
   "metadata": {},
   "outputs": [
    {
     "name": "stdout",
     "output_type": "stream",
     "text": [
      "['I', '', 'am', '', 'learning', '', 'text', '', 'analytics', '']\n"
     ]
    }
   ],
   "source": [
    "sentence3 = re.findall (r'\\w*', 'I am learning text analytics') \n",
    "print (sentence3) \n",
    "# Each word is selected including spaces "
   ]
  },
  {
   "cell_type": "code",
   "execution_count": 68,
   "id": "969b20d8-2d01-4424-8e41-7b053d226519",
   "metadata": {},
   "outputs": [],
   "source": [
    "#d. Metacharacter \\w+"
   ]
  },
  {
   "cell_type": "code",
   "execution_count": 69,
   "id": "2479a807-c530-4309-9ca0-f316305b2b7e",
   "metadata": {},
   "outputs": [
    {
     "name": "stdout",
     "output_type": "stream",
     "text": [
      "['I', 'am', 'learning', 'text', 'analytics']\n"
     ]
    }
   ],
   "source": [
    "sentence4 = re.findall (r'\\w+', 'I am learning text analytics') \n",
    "print (sentence4) \n",
    "# Each word is selected excluding spaces "
   ]
  },
  {
   "cell_type": "code",
   "execution_count": 70,
   "id": "f9a4198f-ab6d-4f66-bc4a-f1210f24bcbc",
   "metadata": {},
   "outputs": [],
   "source": [
    "#e. Metacharacter ^\\w*"
   ]
  },
  {
   "cell_type": "code",
   "execution_count": 71,
   "id": "4851eedf-a3e2-446f-bd67-c925692760ab",
   "metadata": {},
   "outputs": [
    {
     "name": "stdout",
     "output_type": "stream",
     "text": [
      "['I']\n"
     ]
    }
   ],
   "source": [
    "sentence5 = re.findall (r'^\\w+', 'I am learning text analytics') \n",
    "print (sentence5) \n",
    "# First word is selected "
   ]
  },
  {
   "cell_type": "code",
   "execution_count": 72,
   "id": "b9611289-c1aa-4195-a32b-c2cae6699752",
   "metadata": {},
   "outputs": [],
   "source": [
    "#f. Metacharacter \\w+$"
   ]
  },
  {
   "cell_type": "code",
   "execution_count": 73,
   "id": "f0d78259-36d9-43b0-a350-7bd6ce50d3b7",
   "metadata": {},
   "outputs": [
    {
     "name": "stdout",
     "output_type": "stream",
     "text": [
      "['analytics']\n"
     ]
    }
   ],
   "source": [
    "sentence6 = re.findall (r'\\w+$', 'I am learning text analytics') \n",
    "print (sentence6) \n",
    "# Last word is selected "
   ]
  },
  {
   "cell_type": "code",
   "execution_count": 74,
   "id": "ca7d2254-94db-4195-a26f-19f6004e82af",
   "metadata": {},
   "outputs": [],
   "source": [
    "#g. Metacharacter \\w\\w"
   ]
  },
  {
   "cell_type": "code",
   "execution_count": 75,
   "id": "102da9bf-3880-450a-b184-df114fc2ae17",
   "metadata": {},
   "outputs": [
    {
     "name": "stdout",
     "output_type": "stream",
     "text": [
      "['am', 'le', 'ar', 'ni', 'ng', 'te', 'xt', 'an', 'al', 'yt', 'ic']\n"
     ]
    }
   ],
   "source": [
    "sentence7 = re.findall (r'\\w\\w', 'I am learning text analytics') \n",
    "print (sentence7) \n",
    "# 2 consecutive characters are selected"
   ]
  },
  {
   "cell_type": "code",
   "execution_count": 76,
   "id": "4d2e869a-b5d4-480e-bc39-bd0b5eeee8e8",
   "metadata": {},
   "outputs": [],
   "source": [
    "#h. Metacharacter \\b\\w\\w"
   ]
  },
  {
   "cell_type": "code",
   "execution_count": 77,
   "id": "b5e2f324-7184-4a4d-83ce-f6474bf4f03c",
   "metadata": {},
   "outputs": [
    {
     "name": "stdout",
     "output_type": "stream",
     "text": [
      "['am', 'le', 'te', 'an']\n"
     ]
    }
   ],
   "source": [
    "sentence8 = re.findall (r'\\b\\w\\w', 'I am learning text analytics') \n",
    "print (sentence8) \n",
    "# 2 consecutive characters in a string are selected "
   ]
  },
  {
   "cell_type": "code",
   "execution_count": 78,
   "id": "e863f238-bdef-4cbb-8cf9-e1665c081438",
   "metadata": {},
   "outputs": [],
   "source": [
    "# Extracting the domain type of email address"
   ]
  },
  {
   "cell_type": "code",
   "execution_count": 79,
   "id": "4e252f62-7ca3-45ee-8161-ea982ab977df",
   "metadata": {},
   "outputs": [
    {
     "name": "stdout",
     "output_type": "stream",
     "text": [
      "['@text', '@analytics', '@textanalytics']\n"
     ]
    }
   ],
   "source": [
    "sentence9 = re.findall (r'@\\w+', 'user@text.com.my, user@analytics.gov.my, user@textanalytics.edu.my')\n",
    "print (sentence9) \n",
    "# Only the first word in the domain name is selected"
   ]
  },
  {
   "cell_type": "code",
   "execution_count": 80,
   "id": "ace36c9d-735f-430b-94c9-d4e20c98e52e",
   "metadata": {},
   "outputs": [
    {
     "name": "stdout",
     "output_type": "stream",
     "text": [
      "['@text.com', '@analytics.gov', '@textanalytics.edu']\n"
     ]
    }
   ],
   "source": [
    "sentence10 = re.findall (r'@\\w+.\\w+','user@text.com.my, user@analytics.gov.my, user@textanalytics.edu.my')\n",
    "print (sentence10)\n",
    "#domain name and type"
   ]
  },
  {
   "cell_type": "code",
   "execution_count": 81,
   "id": "6ce8dc06-21f1-40b4-a407-2372e51cd8fa",
   "metadata": {},
   "outputs": [
    {
     "name": "stdout",
     "output_type": "stream",
     "text": [
      "['@text.com.my', '@analytics.gov.my', '@textanalytics.edu.my']\n"
     ]
    }
   ],
   "source": [
    "sentence11 = re.findall (r'@\\w+.\\w+.\\w+', 'user@text.com.my, user@analytics.gov.my, user@textanalytics.edu.my')\n",
    "print (sentence11) \n",
    "# The full domain name is selected "
   ]
  },
  {
   "cell_type": "code",
   "execution_count": 82,
   "id": "97e6a02e-6451-4a67-841e-68c84f923820",
   "metadata": {},
   "outputs": [
    {
     "name": "stdout",
     "output_type": "stream",
     "text": [
      "['com.my', 'gov.my', 'edu.my']\n"
     ]
    }
   ],
   "source": [
    "sentence12 = re.findall (r'@\\w+.(\\w+.\\w+)', 'user@text.com.my, user@analytics.gov.my, user@textanalytics.edu.my')\n",
    "print (sentence12) \n",
    "# To display the type of domain "
   ]
  },
  {
   "cell_type": "code",
   "execution_count": 83,
   "id": "c4475404-480e-4231-9fc7-d30b69ba71db",
   "metadata": {},
   "outputs": [],
   "source": [
    "# Extracting the date"
   ]
  },
  {
   "cell_type": "code",
   "execution_count": 84,
   "id": "e8e6f2c9-4d46-4cd5-9c49-530c0b4c9eb4",
   "metadata": {},
   "outputs": [
    {
     "name": "stdout",
     "output_type": "stream",
     "text": [
      "['15-05-20', '20-08-20']\n"
     ]
    }
   ],
   "source": [
    "sentence13 = re.findall (r'\\d{2}-\\d{2}-\\d{2}', 'Ahmad BIT(IS) 15-05-2001, Johnny BCS(SE) 20-08-2000')\n",
    "print (sentence13) \n",
    "# To display the date in the format of dd-mm-yy "
   ]
  },
  {
   "cell_type": "code",
   "execution_count": 85,
   "id": "f3789ffb-1400-4494-a08a-66d933a73c47",
   "metadata": {},
   "outputs": [
    {
     "name": "stdout",
     "output_type": "stream",
     "text": [
      "['15-05-2001', '20-08-2000']\n"
     ]
    }
   ],
   "source": [
    "sentence14 = re.findall (r'\\d{2}-\\d{2}-\\d{4}', 'Ahmad BIT(IS) 15-05-2001, Johnny BCS(SE) 20-08-2000')\n",
    "print (sentence14) \n",
    "# To display the date in the format of dd-mm-yyyy"
   ]
  },
  {
   "cell_type": "code",
   "execution_count": 86,
   "id": "4e37b061-4d1d-46a2-af07-abfb4410c455",
   "metadata": {},
   "outputs": [
    {
     "name": "stdout",
     "output_type": "stream",
     "text": [
      "['2001', '2000']\n"
     ]
    }
   ],
   "source": [
    "sentence15 = re.findall (r'\\d{2}-\\d{2}-(\\d{4})', 'Ahmad BIT(IS) 15-05-2001, Johnny BCS(SE) 20-08-2000')\n",
    "print (sentence15) \n",
    "# Only the year will be displayed "
   ]
  },
  {
   "cell_type": "code",
   "execution_count": 100,
   "id": "2e95de1d-4cf9-45f5-af41-b3554aa09f40",
   "metadata": {},
   "outputs": [
    {
     "name": "stdout",
     "output_type": "stream",
     "text": [
      "['01', '00']\n"
     ]
    }
   ],
   "source": [
    "# class exercise\n",
    "\n",
    "example1 = re.findall (r'\\d{2}-\\d{2}-\\d{2}(\\d{2})', 'Ahmad BIT(IS) 15-05-2001, Johnny BCS(SE) 20-08-2000')\n",
    "print (example1) \n",
    "# Only the last 2 digits of the year will be displayed "
   ]
  },
  {
   "cell_type": "code",
   "execution_count": 97,
   "id": "364031b0-3e34-4783-9bb5-de6381914208",
   "metadata": {},
   "outputs": [],
   "source": [
    "# Selecting words that start with vowels in a string"
   ]
  },
  {
   "cell_type": "code",
   "execution_count": 88,
   "id": "6b93059a-bfff-415c-8a29-d15fdbffd9fd",
   "metadata": {},
   "outputs": [
    {
     "name": "stdout",
     "output_type": "stream",
     "text": [
      "['ave', 'eight', 'ory', 'ooks', 'often', 'ead', 'em', 'in', 'afternoon']\n"
     ]
    }
   ],
   "source": [
    "sentence16 = re.findall (r'[aeiouAEIOU]\\w+', 'I have eight story books. I often read them in afternoon')\n",
    "print (sentence16)\n",
    "# A sequence that starts with a vowel followed by one or more characters are selected"
   ]
  },
  {
   "cell_type": "code",
   "execution_count": 89,
   "id": "a56bd9ba-de90-4532-a86d-b0840b01cfdc",
   "metadata": {},
   "outputs": [
    {
     "name": "stdout",
     "output_type": "stream",
     "text": [
      "['eight', 'often', 'in', 'afternoon']\n"
     ]
    }
   ],
   "source": [
    "sentence17 = re.findall (r'\\b[aeiouAEIOU]\\w+', 'I have eight story books. I often read them in afternoon')\n",
    "print (sentence17) \n",
    "# Only words that start with vowels are selected"
   ]
  },
  {
   "cell_type": "code",
   "execution_count": 90,
   "id": "20850a6d-b95f-496f-9afa-1d657f362884",
   "metadata": {},
   "outputs": [
    {
     "name": "stdout",
     "output_type": "stream",
     "text": [
      "['have', 'story', 'books', 'read', 'them']\n"
     ]
    }
   ],
   "source": [
    "sentence18 = re.findall (r'\\b[^aeiouAEIOU\\s]\\w+', 'I have eight story books. I often read them in afternoon')\n",
    "print (sentence18) \n",
    "# Only words that start with non-vowels are selected"
   ]
  },
  {
   "cell_type": "code",
   "execution_count": 91,
   "id": "bceb73b1-9e7a-4e1b-bf39-b4d38651762d",
   "metadata": {},
   "outputs": [],
   "source": [
    "# Splitting a string with multiple delimiters"
   ]
  },
  {
   "cell_type": "code",
   "execution_count": 92,
   "id": "d8984af8-e0ae-461a-a27a-a20c98343033",
   "metadata": {},
   "outputs": [
    {
     "name": "stdout",
     "output_type": "stream",
     "text": [
      "['I have many story books', ' colouring books', ' I often read them in the afternoon.']\n"
     ]
    }
   ],
   "source": [
    "sentence19 = re.split (r'[;,]', 'I have many story books, colouring books; I often read them in the afternoon.')\n",
    "print (sentence19) \n",
    "# split the words based on the delimiters semi colon and comma "
   ]
  },
  {
   "cell_type": "code",
   "execution_count": 93,
   "id": "07d88eee-ee7f-4765-8196-472699c183de",
   "metadata": {},
   "outputs": [
    {
     "name": "stdout",
     "output_type": "stream",
     "text": [
      "['I', 'have', 'many', 'story', 'books', '', 'colouring', 'books', '', 'I', 'often', 'read', 'them', 'in', 'the', 'afternoon.']\n"
     ]
    }
   ],
   "source": [
    "sentence20 = re.split (r'[;,\\s]', 'I have many story books, colouring books; I often read them in the afternoon.')\n",
    "print (sentence20) \n",
    "# split the words based on the delimiters semi colon, comma and space "
   ]
  },
  {
   "cell_type": "code",
   "execution_count": 94,
   "id": "a122e58f-0d33-4d49-906c-93d7e94b6684",
   "metadata": {},
   "outputs": [],
   "source": [
    "# Substituting delimiters"
   ]
  },
  {
   "cell_type": "code",
   "execution_count": 95,
   "id": "6fc8573a-6c77-4a87-bd6a-dc57915d8e3a",
   "metadata": {},
   "outputs": [
    {
     "name": "stdout",
     "output_type": "stream",
     "text": [
      "I have many story books. colouring books. I often read them in the afternoon.\n"
     ]
    }
   ],
   "source": [
    "sentence21 = re.sub (r'[;,]', '.', 'I have many story books, colouring books; I often read them in the afternoon.')\n",
    "print (sentence21) \n",
    "# Substitute the delimiters semi colon and comma with fullstop "
   ]
  },
  {
   "cell_type": "code",
   "execution_count": null,
   "id": "16dcdeb2-4bae-44f2-bed1-5ca8dfc4b9c2",
   "metadata": {},
   "outputs": [],
   "source": []
  }
 ],
 "metadata": {
  "kernelspec": {
   "display_name": "Python 3 (ipykernel)",
   "language": "python",
   "name": "python3"
  },
  "language_info": {
   "codemirror_mode": {
    "name": "ipython",
    "version": 3
   },
   "file_extension": ".py",
   "mimetype": "text/x-python",
   "name": "python",
   "nbconvert_exporter": "python",
   "pygments_lexer": "ipython3",
   "version": "3.11.5"
  }
 },
 "nbformat": 4,
 "nbformat_minor": 5
}
